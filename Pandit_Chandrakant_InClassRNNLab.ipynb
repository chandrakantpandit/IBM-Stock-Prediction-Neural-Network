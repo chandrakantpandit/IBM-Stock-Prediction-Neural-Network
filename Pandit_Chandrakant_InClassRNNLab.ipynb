{
 "cells": [
  {
   "cell_type": "markdown",
   "metadata": {},
   "source": [
    "# Git Link"
   ]
  },
  {
   "cell_type": "code",
   "execution_count": 1,
   "metadata": {
    "collapsed": true
   },
   "outputs": [],
   "source": [
    "import numpy as np\n",
    "import matplotlib.pyplot as plt\n",
    "import pandas as pd"
   ]
  },
  {
   "cell_type": "markdown",
   "metadata": {},
   "source": [
    "### Data is splitted in train and test set.\n",
    "### 2018 data is used for testing purpose and rest of the data is used for Training."
   ]
  },
  {
   "cell_type": "code",
   "execution_count": 2,
   "metadata": {},
   "outputs": [],
   "source": [
    "#load training data\n",
    "data_train = pd.read_csv('IBM_Train.csv')\n",
    "training_set = data_train.iloc[:,1:2].values"
   ]
  },
  {
   "cell_type": "code",
   "execution_count": 3,
   "metadata": {},
   "outputs": [
    {
     "data": {
      "text/plain": [
       "array([[ 206.710007],\n",
       "       [ 207.179993],\n",
       "       [ 206.970001],\n",
       "       ..., \n",
       "       [ 152.509995],\n",
       "       [ 152.949997],\n",
       "       [ 153.199997]])"
      ]
     },
     "execution_count": 3,
     "metadata": {},
     "output_type": "execute_result"
    }
   ],
   "source": [
    "training_set"
   ]
  },
  {
   "cell_type": "code",
   "execution_count": 4,
   "metadata": {},
   "outputs": [
    {
     "data": {
      "text/plain": [
       "array([[ 0.91054481],\n",
       "       [ 0.91539402],\n",
       "       [ 0.91322737],\n",
       "       ..., \n",
       "       [ 0.35132061],\n",
       "       [ 0.35586046],\n",
       "       [ 0.35843991]])"
      ]
     },
     "execution_count": 4,
     "metadata": {},
     "output_type": "execute_result"
    }
   ],
   "source": [
    "#scale the features\n",
    "from sklearn.preprocessing import MinMaxScaler\n",
    "sc = MinMaxScaler(feature_range = (0,1))\n",
    "training_set_scaled = sc.fit_transform(training_set)\n",
    "training_set_scaled"
   ]
  },
  {
   "cell_type": "code",
   "execution_count": 5,
   "metadata": {},
   "outputs": [],
   "source": [
    "#create the train data\n",
    "X_train = []\n",
    "y_train = []\n",
    "for i in range(60, 1427):\n",
    "    X_train.append(training_set_scaled[i-60:i, 0])\n",
    "    y_train.append(training_set_scaled[i, 0])\n",
    "X_train, y_train = np.array(X_train), np.array(y_train)"
   ]
  },
  {
   "cell_type": "code",
   "execution_count": 6,
   "metadata": {
    "collapsed": true
   },
   "outputs": [],
   "source": [
    "X_train = np.reshape(X_train, (X_train.shape[0],X_train.shape[1],1))"
   ]
  },
  {
   "cell_type": "markdown",
   "metadata": {},
   "source": [
    "## Import keras Libraries"
   ]
  },
  {
   "cell_type": "code",
   "execution_count": 7,
   "metadata": {},
   "outputs": [
    {
     "name": "stderr",
     "output_type": "stream",
     "text": [
      "Using TensorFlow backend.\n"
     ]
    }
   ],
   "source": [
    "#import Keras\n",
    "from keras.models import Sequential\n",
    "from keras.layers import Dense\n",
    "from keras.layers import LSTM\n",
    "from keras.layers import Dropout"
   ]
  },
  {
   "cell_type": "code",
   "execution_count": 8,
   "metadata": {
    "collapsed": true
   },
   "outputs": [],
   "source": [
    "#define NN\n",
    "regressor = Sequential()"
   ]
  },
  {
   "cell_type": "code",
   "execution_count": 9,
   "metadata": {
    "collapsed": true
   },
   "outputs": [],
   "source": [
    "regressor.add(LSTM(units = 50, return_sequences= True, input_shape = (X_train.shape[1],1)))\n",
    "regressor.add(Dropout(0.2))"
   ]
  },
  {
   "cell_type": "code",
   "execution_count": 10,
   "metadata": {
    "collapsed": true
   },
   "outputs": [],
   "source": [
    "regressor.add(LSTM(units = 50, return_sequences= True))\n",
    "regressor.add(Dropout(0.2))"
   ]
  },
  {
   "cell_type": "code",
   "execution_count": 11,
   "metadata": {
    "collapsed": true
   },
   "outputs": [],
   "source": [
    "regressor.add(LSTM(units = 50, return_sequences= True))\n",
    "regressor.add(Dropout(0.2))"
   ]
  },
  {
   "cell_type": "code",
   "execution_count": 12,
   "metadata": {
    "collapsed": true
   },
   "outputs": [],
   "source": [
    "regressor.add(LSTM(units = 50))\n",
    "regressor.add(Dropout(0.2))"
   ]
  },
  {
   "cell_type": "code",
   "execution_count": 13,
   "metadata": {
    "collapsed": true
   },
   "outputs": [],
   "source": [
    "regressor.add(Dense(units = 1))"
   ]
  },
  {
   "cell_type": "code",
   "execution_count": 14,
   "metadata": {
    "collapsed": true
   },
   "outputs": [],
   "source": [
    "#compile NN\n",
    "regressor.compile(optimizer='adam', loss='mean_squared_error')"
   ]
  },
  {
   "cell_type": "code",
   "execution_count": 15,
   "metadata": {},
   "outputs": [
    {
     "name": "stdout",
     "output_type": "stream",
     "text": [
      "Epoch 1/100\n",
      "1367/1367 [==============================] - 9s 7ms/step - loss: 0.0485\n",
      "Epoch 2/100\n",
      "1367/1367 [==============================] - 7s 5ms/step - loss: 0.0083\n",
      "Epoch 3/100\n",
      "1367/1367 [==============================] - 7s 5ms/step - loss: 0.0071\n",
      "Epoch 4/100\n",
      "1367/1367 [==============================] - 7s 5ms/step - loss: 0.0079\n",
      "Epoch 5/100\n",
      "1367/1367 [==============================] - 7s 5ms/step - loss: 0.0079\n",
      "Epoch 6/100\n",
      "1367/1367 [==============================] - 8s 6ms/step - loss: 0.0065\n",
      "Epoch 7/100\n",
      "1367/1367 [==============================] - 7s 5ms/step - loss: 0.0064\n",
      "Epoch 8/100\n",
      "1367/1367 [==============================] - 8s 6ms/step - loss: 0.0059\n",
      "Epoch 9/100\n",
      "1367/1367 [==============================] - 9s 6ms/step - loss: 0.0053\n",
      "Epoch 10/100\n",
      "1367/1367 [==============================] - 8s 6ms/step - loss: 0.0055\n",
      "Epoch 11/100\n",
      "1367/1367 [==============================] - 8s 6ms/step - loss: 0.0051\n",
      "Epoch 12/100\n",
      "1367/1367 [==============================] - 8s 6ms/step - loss: 0.0054\n",
      "Epoch 13/100\n",
      "1367/1367 [==============================] - 8s 6ms/step - loss: 0.0050\n",
      "Epoch 14/100\n",
      "1367/1367 [==============================] - 8s 6ms/step - loss: 0.0051\n",
      "Epoch 15/100\n",
      "1367/1367 [==============================] - 8s 6ms/step - loss: 0.0047\n",
      "Epoch 16/100\n",
      "1367/1367 [==============================] - 8s 6ms/step - loss: 0.0041\n",
      "Epoch 17/100\n",
      "1367/1367 [==============================] - 9s 6ms/step - loss: 0.0040\n",
      "Epoch 18/100\n",
      "1367/1367 [==============================] - 8s 6ms/step - loss: 0.0041\n",
      "Epoch 19/100\n",
      "1367/1367 [==============================] - 8s 6ms/step - loss: 0.0042\n",
      "Epoch 20/100\n",
      "1367/1367 [==============================] - 8s 6ms/step - loss: 0.0040\n",
      "Epoch 21/100\n",
      "1367/1367 [==============================] - 8s 6ms/step - loss: 0.0039\n",
      "Epoch 22/100\n",
      "1367/1367 [==============================] - 8s 6ms/step - loss: 0.0037\n",
      "Epoch 23/100\n",
      "1367/1367 [==============================] - 7s 5ms/step - loss: 0.0039\n",
      "Epoch 24/100\n",
      "1367/1367 [==============================] - 8s 6ms/step - loss: 0.0035\n",
      "Epoch 25/100\n",
      "1367/1367 [==============================] - 7s 5ms/step - loss: 0.0034\n",
      "Epoch 26/100\n",
      "1367/1367 [==============================] - 8s 6ms/step - loss: 0.0032\n",
      "Epoch 27/100\n",
      "1367/1367 [==============================] - 8s 6ms/step - loss: 0.0034\n",
      "Epoch 28/100\n",
      "1367/1367 [==============================] - 8s 5ms/step - loss: 0.0033\n",
      "Epoch 29/100\n",
      "1367/1367 [==============================] - 7s 5ms/step - loss: 0.0031A: 2s -\n",
      "Epoch 30/100\n",
      "1367/1367 [==============================] - 8s 6ms/step - loss: 0.0029\n",
      "Epoch 31/100\n",
      "1367/1367 [==============================] - 8s 6ms/step - loss: 0.0034\n",
      "Epoch 32/100\n",
      "1367/1367 [==============================] - 8s 6ms/step - loss: 0.0033\n",
      "Epoch 33/100\n",
      "1367/1367 [==============================] - 9s 7ms/step - loss: 0.0032\n",
      "Epoch 34/100\n",
      "1367/1367 [==============================] - 8s 6ms/step - loss: 0.0028\n",
      "Epoch 35/100\n",
      "1367/1367 [==============================] - 8s 6ms/step - loss: 0.0028\n",
      "Epoch 36/100\n",
      "1367/1367 [==============================] - 9s 6ms/step - loss: 0.0027\n",
      "Epoch 37/100\n",
      "1367/1367 [==============================] - 9s 6ms/step - loss: 0.0027\n",
      "Epoch 38/100\n",
      "1367/1367 [==============================] - 8s 6ms/step - loss: 0.0027\n",
      "Epoch 39/100\n",
      "1367/1367 [==============================] - 8s 6ms/step - loss: 0.0026\n",
      "Epoch 40/100\n",
      "1367/1367 [==============================] - 8s 6ms/step - loss: 0.0029\n",
      "Epoch 41/100\n",
      "1367/1367 [==============================] - 8s 6ms/step - loss: 0.0030\n",
      "Epoch 42/100\n",
      "1367/1367 [==============================] - 8s 6ms/step - loss: 0.0029\n",
      "Epoch 43/100\n",
      "1367/1367 [==============================] - 8s 6ms/step - loss: 0.0023\n",
      "Epoch 44/100\n",
      "1367/1367 [==============================] - 8s 6ms/step - loss: 0.0023\n",
      "Epoch 45/100\n",
      "1367/1367 [==============================] - 8s 6ms/step - loss: 0.0026\n",
      "Epoch 46/100\n",
      "1367/1367 [==============================] - 8s 6ms/step - loss: 0.0025A: 0s - loss: 0.\n",
      "Epoch 47/100\n",
      "1367/1367 [==============================] - 8s 6ms/step - loss: 0.0026\n",
      "Epoch 48/100\n",
      "1367/1367 [==============================] - 8s 6ms/step - loss: 0.0022\n",
      "Epoch 49/100\n",
      "1367/1367 [==============================] - 8s 6ms/step - loss: 0.0025\n",
      "Epoch 50/100\n",
      "1367/1367 [==============================] - 8s 6ms/step - loss: 0.0023\n",
      "Epoch 51/100\n",
      "1367/1367 [==============================] - 7s 5ms/step - loss: 0.0022\n",
      "Epoch 52/100\n",
      "1367/1367 [==============================] - 7s 5ms/step - loss: 0.0024\n",
      "Epoch 53/100\n",
      "1367/1367 [==============================] - 8s 6ms/step - loss: 0.0021\n",
      "Epoch 54/100\n",
      "1367/1367 [==============================] - 8s 6ms/step - loss: 0.0022\n",
      "Epoch 55/100\n",
      "1367/1367 [==============================] - 8s 6ms/step - loss: 0.0020\n",
      "Epoch 56/100\n",
      "1367/1367 [==============================] - 8s 5ms/step - loss: 0.0021\n",
      "Epoch 57/100\n",
      "1367/1367 [==============================] - 8s 6ms/step - loss: 0.0021\n",
      "Epoch 58/100\n",
      "1367/1367 [==============================] - 7s 5ms/step - loss: 0.0021\n",
      "Epoch 59/100\n",
      "1367/1367 [==============================] - 8s 6ms/step - loss: 0.0021A:  - ETA: 0s - loss: 0.0\n",
      "Epoch 60/100\n",
      "1367/1367 [==============================] - 7s 5ms/step - loss: 0.0019\n",
      "Epoch 61/100\n",
      "1367/1367 [==============================] - 8s 6ms/step - loss: 0.0018\n",
      "Epoch 62/100\n",
      "1367/1367 [==============================] - 8s 6ms/step - loss: 0.0020\n",
      "Epoch 63/100\n",
      "1367/1367 [==============================] - 8s 6ms/step - loss: 0.0020\n",
      "Epoch 64/100\n",
      "1367/1367 [==============================] - 8s 6ms/step - loss: 0.0019\n",
      "Epoch 65/100\n",
      "1367/1367 [==============================] - 7s 5ms/step - loss: 0.0021\n",
      "Epoch 66/100\n",
      "1367/1367 [==============================] - 7s 5ms/step - loss: 0.0018\n",
      "Epoch 67/100\n",
      "1367/1367 [==============================] - 7s 5ms/step - loss: 0.0018\n",
      "Epoch 68/100\n",
      "1367/1367 [==============================] - 8s 6ms/step - loss: 0.0017\n",
      "Epoch 69/100\n",
      "1367/1367 [==============================] - 8s 6ms/step - loss: 0.0018\n",
      "Epoch 70/100\n",
      "1367/1367 [==============================] - 8s 6ms/step - loss: 0.0017\n",
      "Epoch 71/100\n",
      "1367/1367 [==============================] - 7s 5ms/step - loss: 0.0018\n",
      "Epoch 72/100\n",
      "1367/1367 [==============================] - 7s 5ms/step - loss: 0.0019\n",
      "Epoch 73/100\n",
      "1367/1367 [==============================] - 8s 6ms/step - loss: 0.0016\n",
      "Epoch 74/100\n",
      "1367/1367 [==============================] - 8s 6ms/step - loss: 0.0016A: 0s - loss: 0.0\n",
      "Epoch 75/100\n",
      "1367/1367 [==============================] - 8s 6ms/step - loss: 0.0016\n",
      "Epoch 76/100\n",
      "1367/1367 [==============================] - 7s 5ms/step - loss: 0.0016\n",
      "Epoch 77/100\n",
      "1367/1367 [==============================] - 8s 6ms/step - loss: 0.0016\n",
      "Epoch 78/100\n",
      "1367/1367 [==============================] - 8s 6ms/step - loss: 0.0015\n",
      "Epoch 79/100\n",
      "1367/1367 [==============================] - 8s 6ms/step - loss: 0.0016\n",
      "Epoch 80/100\n",
      "1367/1367 [==============================] - 7s 5ms/step - loss: 0.0014\n",
      "Epoch 81/100\n",
      "1367/1367 [==============================] - 7s 5ms/step - loss: 0.0016\n",
      "Epoch 82/100\n",
      "1367/1367 [==============================] - 8s 6ms/step - loss: 0.0015\n",
      "Epoch 83/100\n",
      "1367/1367 [==============================] - 8s 6ms/step - loss: 0.0014\n",
      "Epoch 84/100\n",
      "1367/1367 [==============================] - 8s 6ms/step - loss: 0.0015\n",
      "Epoch 85/100\n",
      "1367/1367 [==============================] - 8s 6ms/step - loss: 0.0014\n",
      "Epoch 86/100\n",
      "1367/1367 [==============================] - 8s 6ms/step - loss: 0.0014\n",
      "Epoch 87/100\n",
      "1367/1367 [==============================] - 8s 6ms/step - loss: 0.0013\n",
      "Epoch 88/100\n",
      "1367/1367 [==============================] - 7s 5ms/step - loss: 0.0014\n",
      "Epoch 89/100\n",
      "1367/1367 [==============================] - 8s 5ms/step - loss: 0.0014\n",
      "Epoch 90/100\n",
      "1367/1367 [==============================] - 7s 5ms/step - loss: 0.0013\n",
      "Epoch 91/100\n",
      "1367/1367 [==============================] - 8s 6ms/step - loss: 0.0016\n",
      "Epoch 92/100\n",
      "1367/1367 [==============================] - 8s 6ms/step - loss: 0.0015\n",
      "Epoch 93/100\n",
      "1367/1367 [==============================] - 8s 6ms/step - loss: 0.0014\n",
      "Epoch 94/100\n",
      "1367/1367 [==============================] - 7s 5ms/step - loss: 0.0013\n",
      "Epoch 95/100\n",
      "1367/1367 [==============================] - 7s 5ms/step - loss: 0.0013\n",
      "Epoch 96/100\n"
     ]
    },
    {
     "name": "stdout",
     "output_type": "stream",
     "text": [
      "1367/1367 [==============================] - 7s 5ms/step - loss: 0.0014\n",
      "Epoch 97/100\n",
      "1367/1367 [==============================] - 7s 5ms/step - loss: 0.0015\n",
      "Epoch 98/100\n",
      "1367/1367 [==============================] - 7s 5ms/step - loss: 0.0012\n",
      "Epoch 99/100\n",
      "1367/1367 [==============================] - 7s 5ms/step - loss: 0.0012\n",
      "Epoch 100/100\n",
      "1367/1367 [==============================] - 7s 5ms/step - loss: 0.0013\n"
     ]
    },
    {
     "data": {
      "text/plain": [
       "<keras.callbacks.History at 0x1203e860>"
      ]
     },
     "execution_count": 15,
     "metadata": {},
     "output_type": "execute_result"
    }
   ],
   "source": [
    "#execute NN\n",
    "regressor.fit(X_train, y_train, epochs=100, batch_size=32)"
   ]
  },
  {
   "cell_type": "code",
   "execution_count": 16,
   "metadata": {
    "collapsed": true
   },
   "outputs": [],
   "source": [
    "data_test = pd.read_csv('IBM_Test.csv')\n",
    "real_stock_price = data_test.iloc[:, 1:2].values"
   ]
  },
  {
   "cell_type": "code",
   "execution_count": 17,
   "metadata": {},
   "outputs": [],
   "source": [
    "#load test-data and create test-set\n",
    "data_total = pd.concat((data_train['Open'],data_test['Open']),axis=0)\n",
    "inputs = data_total[len(data_total) - len(data_test) - 60:].values"
   ]
  },
  {
   "cell_type": "code",
   "execution_count": 18,
   "metadata": {
    "collapsed": true
   },
   "outputs": [],
   "source": [
    "inputs = inputs.reshape(-1,1)\n",
    "inputs = sc.transform(inputs)\n",
    "X_test = []\n",
    "for i in range(60,140):\n",
    "    X_test.append(inputs[i-60:i,0])"
   ]
  },
  {
   "cell_type": "code",
   "execution_count": 19,
   "metadata": {
    "collapsed": true
   },
   "outputs": [],
   "source": [
    "X_test = np.array(X_test)\n",
    "X_test = np.reshape(X_test, (X_test.shape[0], X_test.shape[1],1))\n",
    "predicted_stock_price = regressor.predict(X_test)\n",
    "predicted_stock_price = sc.inverse_transform(predicted_stock_price)"
   ]
  },
  {
   "cell_type": "code",
   "execution_count": 20,
   "metadata": {},
   "outputs": [
    {
     "data": {
      "image/png": "[encoded data removed]",
      "text/plain": [
       "<matplotlib.figure.Figure at 0x15bdfcf8>"
      ]
     },
     "metadata": {},
     "output_type": "display_data"
    }
   ],
   "source": [
    "#plot true and predicted values\n",
    "plt.plot(real_stock_price, color = 'red', label = 'Real IBM Stock Price')\n",
    "plt.plot(predicted_stock_price,color='blue', label = 'Predicted IBM Stock Price')\n",
    "plt.title('IBM stock price Prediction')\n",
    "plt.xlabel('Time')\n",
    "plt.ylabel('IBM Stock Price')\n",
    "plt.legend()\n",
    "plt.show()"
   ]
  }
 ],
 "metadata": {
  "kernelspec": {
   "display_name": "Python 3",
   "language": "python",
   "name": "python3"
  },
  "language_info": {
   "codemirror_mode": {
    "name": "ipython",
    "version": 3
   },
   "file_extension": ".py",
   "mimetype": "text/x-python",
   "name": "python",
   "nbconvert_exporter": "python",
   "pygments_lexer": "ipython3",
   "version": "3.6.3"
  }
 },
 "nbformat": 4,
 "nbformat_minor": 2
}
